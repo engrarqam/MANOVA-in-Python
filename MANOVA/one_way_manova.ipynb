{
 "cells": [
  {
   "cell_type": "code",
   "execution_count": 1,
   "metadata": {
    "scrolled": true
   },
   "outputs": [],
   "source": [
    "import pandas as pd\n",
    "import numpy as np\n",
    "import seaborn as sns\n",
    "import matplotlib.pyplot as plt"
   ]
  },
  {
   "cell_type": "code",
   "execution_count": 2,
   "metadata": {},
   "outputs": [
    {
     "data": {
      "text/html": [
       "<div>\n",
       "<style scoped>\n",
       "    .dataframe tbody tr th:only-of-type {\n",
       "        vertical-align: middle;\n",
       "    }\n",
       "\n",
       "    .dataframe tbody tr th {\n",
       "        vertical-align: top;\n",
       "    }\n",
       "\n",
       "    .dataframe thead th {\n",
       "        text-align: right;\n",
       "    }\n",
       "</style>\n",
       "<table border=\"1\" class=\"dataframe\">\n",
       "  <thead>\n",
       "    <tr style=\"text-align: right;\">\n",
       "      <th></th>\n",
       "      <th>id</th>\n",
       "      <th>Sepal.Length</th>\n",
       "      <th>Petal.Length</th>\n",
       "      <th>Species</th>\n",
       "    </tr>\n",
       "  </thead>\n",
       "  <tbody>\n",
       "    <tr>\n",
       "      <th>0</th>\n",
       "      <td>1</td>\n",
       "      <td>5.1</td>\n",
       "      <td>1.4</td>\n",
       "      <td>setosa</td>\n",
       "    </tr>\n",
       "    <tr>\n",
       "      <th>1</th>\n",
       "      <td>2</td>\n",
       "      <td>4.9</td>\n",
       "      <td>1.4</td>\n",
       "      <td>setosa</td>\n",
       "    </tr>\n",
       "    <tr>\n",
       "      <th>2</th>\n",
       "      <td>3</td>\n",
       "      <td>4.7</td>\n",
       "      <td>1.3</td>\n",
       "      <td>setosa</td>\n",
       "    </tr>\n",
       "    <tr>\n",
       "      <th>3</th>\n",
       "      <td>4</td>\n",
       "      <td>4.6</td>\n",
       "      <td>1.5</td>\n",
       "      <td>setosa</td>\n",
       "    </tr>\n",
       "    <tr>\n",
       "      <th>4</th>\n",
       "      <td>5</td>\n",
       "      <td>5.0</td>\n",
       "      <td>1.4</td>\n",
       "      <td>setosa</td>\n",
       "    </tr>\n",
       "  </tbody>\n",
       "</table>\n",
       "</div>"
      ],
      "text/plain": [
       "   id  Sepal.Length  Petal.Length Species\n",
       "0   1           5.1           1.4  setosa\n",
       "1   2           4.9           1.4  setosa\n",
       "2   3           4.7           1.3  setosa\n",
       "3   4           4.6           1.5  setosa\n",
       "4   5           5.0           1.4  setosa"
      ]
     },
     "execution_count": 2,
     "metadata": {},
     "output_type": "execute_result"
    }
   ],
   "source": [
    "df = pd.read_csv(\"one_way_manova.csv\")\n",
    "df.head()"
   ]
  },
  {
   "cell_type": "markdown",
   "metadata": {},
   "source": [
    "## Summary Statistics"
   ]
  },
  {
   "cell_type": "code",
   "execution_count": 3,
   "metadata": {},
   "outputs": [
    {
     "name": "stderr",
     "output_type": "stream",
     "text": [
      "C:\\Users\\Administrator\\AppData\\Local\\Temp\\ipykernel_3228\\1053844134.py:1: FutureWarning: Indexing with multiple keys (implicitly converted to a tuple of keys) will be deprecated, use a list instead.\n",
      "  stats = df.groupby(['Species'])['Sepal.Length', 'Petal.Length'].agg(['count', 'std', 'mean'])\n"
     ]
    },
    {
     "data": {
      "text/html": [
       "<div>\n",
       "<style scoped>\n",
       "    .dataframe tbody tr th:only-of-type {\n",
       "        vertical-align: middle;\n",
       "    }\n",
       "\n",
       "    .dataframe tbody tr th {\n",
       "        vertical-align: top;\n",
       "    }\n",
       "\n",
       "    .dataframe thead tr th {\n",
       "        text-align: left;\n",
       "    }\n",
       "\n",
       "    .dataframe thead tr:last-of-type th {\n",
       "        text-align: right;\n",
       "    }\n",
       "</style>\n",
       "<table border=\"1\" class=\"dataframe\">\n",
       "  <thead>\n",
       "    <tr>\n",
       "      <th></th>\n",
       "      <th colspan=\"3\" halign=\"left\">Sepal.Length</th>\n",
       "      <th colspan=\"3\" halign=\"left\">Petal.Length</th>\n",
       "    </tr>\n",
       "    <tr>\n",
       "      <th></th>\n",
       "      <th>count</th>\n",
       "      <th>std</th>\n",
       "      <th>mean</th>\n",
       "      <th>count</th>\n",
       "      <th>std</th>\n",
       "      <th>mean</th>\n",
       "    </tr>\n",
       "    <tr>\n",
       "      <th>Species</th>\n",
       "      <th></th>\n",
       "      <th></th>\n",
       "      <th></th>\n",
       "      <th></th>\n",
       "      <th></th>\n",
       "      <th></th>\n",
       "    </tr>\n",
       "  </thead>\n",
       "  <tbody>\n",
       "    <tr>\n",
       "      <th>setosa</th>\n",
       "      <td>50</td>\n",
       "      <td>0.352490</td>\n",
       "      <td>5.006</td>\n",
       "      <td>50</td>\n",
       "      <td>0.173664</td>\n",
       "      <td>1.462</td>\n",
       "    </tr>\n",
       "    <tr>\n",
       "      <th>versicolor</th>\n",
       "      <td>50</td>\n",
       "      <td>0.516171</td>\n",
       "      <td>5.936</td>\n",
       "      <td>50</td>\n",
       "      <td>0.469911</td>\n",
       "      <td>4.260</td>\n",
       "    </tr>\n",
       "    <tr>\n",
       "      <th>virginica</th>\n",
       "      <td>50</td>\n",
       "      <td>0.635880</td>\n",
       "      <td>6.588</td>\n",
       "      <td>50</td>\n",
       "      <td>0.551895</td>\n",
       "      <td>5.552</td>\n",
       "    </tr>\n",
       "  </tbody>\n",
       "</table>\n",
       "</div>"
      ],
      "text/plain": [
       "           Sepal.Length                  Petal.Length                 \n",
       "                  count       std   mean        count       std   mean\n",
       "Species                                                               \n",
       "setosa               50  0.352490  5.006           50  0.173664  1.462\n",
       "versicolor           50  0.516171  5.936           50  0.469911  4.260\n",
       "virginica            50  0.635880  6.588           50  0.551895  5.552"
      ]
     },
     "execution_count": 3,
     "metadata": {},
     "output_type": "execute_result"
    }
   ],
   "source": [
    "stats = df.groupby(['Species'])['Sepal.Length', 'Petal.Length'].agg(['count', 'std', 'mean'])\n",
    "stats"
   ]
  },
  {
   "cell_type": "markdown",
   "metadata": {},
   "source": [
    "## Boxplot"
   ]
  },
  {
   "cell_type": "code",
   "execution_count": 4,
   "metadata": {
    "scrolled": false
   },
   "outputs": [
    {
     "data": {
      "image/png": "[encoded data removed]",
      "text/plain": [
       "<Figure size 1008x432 with 2 Axes>"
      ]
     },
     "metadata": {
      "needs_background": "light"
     },
     "output_type": "display_data"
    }
   ],
   "source": [
    "import seaborn as sns\n",
    "import matplotlib.pyplot as plt\n",
    "fig, axs = plt.subplots(ncols=2, figsize=(14,6))\n",
    "sns.boxplot(data=df, x=\"Species\", y=\"Sepal.Length\", hue=df.Species.tolist(), ax=axs[0])\n",
    "sns.boxplot(data=df, x=\"Species\", y=\"Petal.Length\", hue=df.Species.tolist(), ax=axs[1])\n",
    "plt.show()"
   ]
  },
  {
   "cell_type": "code",
   "execution_count": 5,
   "metadata": {},
   "outputs": [
    {
     "data": {
      "image/png": "[encoded data removed]",
      "text/plain": [
       "<Figure size 1008x576 with 1 Axes>"
      ]
     },
     "metadata": {
      "needs_background": "light"
     },
     "output_type": "display_data"
    }
   ],
   "source": [
    "import seaborn as sns\n",
    "import matplotlib.pyplot as plt\n",
    "fig = plt.subplots(ncols=1, figsize=(14,8))\n",
    "dfl = pd.melt(df, id_vars='Species', value_vars=['Sepal.Length', 'Petal.Length'])\n",
    "sns.boxplot(x='Species', y='value', data=dfl, showfliers=False, hue='variable')\n",
    "plt.show()"
   ]
  },
  {
   "cell_type": "markdown",
   "metadata": {},
   "source": [
    "## Interaction plot using Seaborn"
   ]
  },
  {
   "cell_type": "code",
   "execution_count": 6,
   "metadata": {},
   "outputs": [
    {
     "data": {
      "image/png": "[encoded data removed]",
      "text/plain": [
       "<Figure size 1008x432 with 2 Axes>"
      ]
     },
     "metadata": {
      "needs_background": "light"
     },
     "output_type": "display_data"
    }
   ],
   "source": [
    "import seaborn as sns\n",
    "import matplotlib.pyplot as plt\n",
    "fig, axs = plt.subplots(ncols=2, figsize=(14,6))\n",
    "sns.pointplot(data=df, x=\"Species\", y=\"Sepal.Length\", hue=df.Species.tolist(), ax=axs[0])\n",
    "sns.pointplot(data=df, x=\"Species\", y=\"Petal.Length\", hue=df.Species.tolist(), ax=axs[1])\n",
    "plt.show()"
   ]
  },
  {
   "cell_type": "markdown",
   "metadata": {},
   "source": [
    "# Assumptions"
   ]
  },
  {
   "cell_type": "markdown",
   "metadata": {},
   "source": [
    "### Outliers"
   ]
  },
  {
   "cell_type": "markdown",
   "metadata": {},
   "source": [
    "#### Identify univariate outliers"
   ]
  },
  {
   "cell_type": "code",
   "execution_count": 7,
   "metadata": {},
   "outputs": [],
   "source": [
    "def outliers(dep, ind):\n",
    "    dicts = {'Outliers':{}}\n",
    "    for cat_ind in pd.unique(df[ind]):\n",
    "        Q1, Q3 = np.percentile(df[dep][df[ind] == cat_ind], [25,75])\n",
    "        IQR = Q3-Q1\n",
    "        lower_fence, upper_fence= Q1-(1.5*IQR), Q3+(1.5*IQR)\n",
    "        new_dataset = []\n",
    "        for i in df[dep][df[ind] == cat_ind]:\n",
    "            if i < lower_fence or i > upper_fence:\n",
    "                new_dataset.append(i)\n",
    "        dicts['Outliers'][f'{cat_ind}'] = new_dataset\n",
    "    return pd.DataFrame(dicts)"
   ]
  },
  {
   "cell_type": "code",
   "execution_count": 8,
   "metadata": {},
   "outputs": [
    {
     "data": {
      "text/html": [
       "<div>\n",
       "<style scoped>\n",
       "    .dataframe tbody tr th:only-of-type {\n",
       "        vertical-align: middle;\n",
       "    }\n",
       "\n",
       "    .dataframe tbody tr th {\n",
       "        vertical-align: top;\n",
       "    }\n",
       "\n",
       "    .dataframe thead th {\n",
       "        text-align: right;\n",
       "    }\n",
       "</style>\n",
       "<table border=\"1\" class=\"dataframe\">\n",
       "  <thead>\n",
       "    <tr style=\"text-align: right;\">\n",
       "      <th></th>\n",
       "      <th>Outliers</th>\n",
       "    </tr>\n",
       "  </thead>\n",
       "  <tbody>\n",
       "    <tr>\n",
       "      <th>setosa</th>\n",
       "      <td>[]</td>\n",
       "    </tr>\n",
       "    <tr>\n",
       "      <th>versicolor</th>\n",
       "      <td>[]</td>\n",
       "    </tr>\n",
       "    <tr>\n",
       "      <th>virginica</th>\n",
       "      <td>[4.9]</td>\n",
       "    </tr>\n",
       "  </tbody>\n",
       "</table>\n",
       "</div>"
      ],
      "text/plain": [
       "           Outliers\n",
       "setosa           []\n",
       "versicolor       []\n",
       "virginica     [4.9]"
      ]
     },
     "execution_count": 8,
     "metadata": {},
     "output_type": "execute_result"
    }
   ],
   "source": [
    "outliers('Sepal.Length', 'Species')"
   ]
  },
  {
   "cell_type": "code",
   "execution_count": 9,
   "metadata": {},
   "outputs": [],
   "source": [
    "def outliers(dep, ind):\n",
    "    dicts = {'Outliers':{}}\n",
    "    for cat_ind in pd.unique(df[ind]):\n",
    "        Q1, Q3 = np.percentile(df[dep][df[ind] == cat_ind], [25,75])\n",
    "        IQR = Q3-Q1\n",
    "        lower_fence, upper_fence= Q1-(1.5*IQR), Q3+(1.5*IQR)\n",
    "        new_dataset = []\n",
    "        for i in df[dep][df[ind] == cat_ind]:\n",
    "            if i < lower_fence or i > upper_fence:\n",
    "                new_dataset.append(i)\n",
    "        dicts['Outliers'][f'{cat_ind}'] = new_dataset\n",
    "    return pd.DataFrame(dicts)"
   ]
  },
  {
   "cell_type": "code",
   "execution_count": 10,
   "metadata": {
    "scrolled": true
   },
   "outputs": [
    {
     "data": {
      "text/html": [
       "<div>\n",
       "<style scoped>\n",
       "    .dataframe tbody tr th:only-of-type {\n",
       "        vertical-align: middle;\n",
       "    }\n",
       "\n",
       "    .dataframe tbody tr th {\n",
       "        vertical-align: top;\n",
       "    }\n",
       "\n",
       "    .dataframe thead th {\n",
       "        text-align: right;\n",
       "    }\n",
       "</style>\n",
       "<table border=\"1\" class=\"dataframe\">\n",
       "  <thead>\n",
       "    <tr style=\"text-align: right;\">\n",
       "      <th></th>\n",
       "      <th>Outliers</th>\n",
       "    </tr>\n",
       "  </thead>\n",
       "  <tbody>\n",
       "    <tr>\n",
       "      <th>setosa</th>\n",
       "      <td>[1.1, 1.0, 1.9, 1.9]</td>\n",
       "    </tr>\n",
       "    <tr>\n",
       "      <th>versicolor</th>\n",
       "      <td>[3.0]</td>\n",
       "    </tr>\n",
       "    <tr>\n",
       "      <th>virginica</th>\n",
       "      <td>[]</td>\n",
       "    </tr>\n",
       "  </tbody>\n",
       "</table>\n",
       "</div>"
      ],
      "text/plain": [
       "                        Outliers\n",
       "setosa      [1.1, 1.0, 1.9, 1.9]\n",
       "versicolor                 [3.0]\n",
       "virginica                     []"
      ]
     },
     "execution_count": 10,
     "metadata": {},
     "output_type": "execute_result"
    }
   ],
   "source": [
    "outliers('Petal.Length', 'Species')"
   ]
  },
  {
   "cell_type": "markdown",
   "metadata": {},
   "source": [
    "#### Identify multivariate outliers"
   ]
  },
  {
   "cell_type": "code",
   "execution_count": 11,
   "metadata": {},
   "outputs": [],
   "source": [
    "setosa = df[df['Species'] == 'setosa'][['Sepal.Length', 'Petal.Length']]\n",
    "versicolor = df[df['Species'] == 'versicolor'][['Sepal.Length', 'Petal.Length']]\n",
    "virginica = df[df['Species'] == 'virginica'][['Sepal.Length', 'Petal.Length']]"
   ]
  },
  {
   "cell_type": "code",
   "execution_count": 12,
   "metadata": {},
   "outputs": [],
   "source": [
    "def Mahalanobis_distance(categories):   \n",
    "    import numpy as np\n",
    "    import pandas as pd\n",
    "    import scipy as stats\n",
    "    from scipy.stats import chi2\n",
    "\n",
    "    # calculateMahalanobis Function to calculate\n",
    "    # the Mahalanobis distance\n",
    "    def calculateMahalanobis(y=None, data=None, cov=None):\n",
    "        y_mu = y - np.mean(data)\n",
    "        if not cov:\n",
    "            cov = np.cov(data.values.T)\n",
    "        inv_covmat = np.linalg.inv(cov)\n",
    "        left = np.dot(y_mu, inv_covmat)\n",
    "        mahal = np.dot(left, y_mu.T)\n",
    "        return mahal.diagonal()\n",
    "    \n",
    "    results = pd.DataFrame()\n",
    "    \n",
    "    i = ['setosa', 'versicolor', 'virginica']\n",
    "    for i, cat in zip(i, categories):\n",
    "        # Creating a new column in the dataframe that holds\n",
    "        # the Mahalanobis distance for each row\n",
    "        results[f'{i}_Mahalanobis'] = calculateMahalanobis(y=cat, data=cat)\n",
    "\n",
    "        # calculate p-value for each mahalanobis distance\n",
    "        results[f'{i}_p'] = 1 - chi2.cdf(results[f'{i}_Mahalanobis'], 3)\n",
    "    return results"
   ]
  },
  {
   "cell_type": "code",
   "execution_count": 13,
   "metadata": {
    "scrolled": true
   },
   "outputs": [
    {
     "name": "stderr",
     "output_type": "stream",
     "text": [
      "C:\\ProgramData\\Anaconda3\\envs\\All\\lib\\site-packages\\numpy\\core\\fromnumeric.py:3438: FutureWarning: In a future version, DataFrame.mean(axis=None) will return a scalar mean over the entire DataFrame. To retain the old behavior, use 'frame.mean(axis=0)' or just 'frame.mean()'\n",
      "  return mean(axis=axis, dtype=dtype, out=out, **kwargs)\n",
      "C:\\ProgramData\\Anaconda3\\envs\\All\\lib\\site-packages\\numpy\\core\\fromnumeric.py:3438: FutureWarning: In a future version, DataFrame.mean(axis=None) will return a scalar mean over the entire DataFrame. To retain the old behavior, use 'frame.mean(axis=0)' or just 'frame.mean()'\n",
      "  return mean(axis=axis, dtype=dtype, out=out, **kwargs)\n",
      "C:\\ProgramData\\Anaconda3\\envs\\All\\lib\\site-packages\\numpy\\core\\fromnumeric.py:3438: FutureWarning: In a future version, DataFrame.mean(axis=None) will return a scalar mean over the entire DataFrame. To retain the old behavior, use 'frame.mean(axis=0)' or just 'frame.mean()'\n",
      "  return mean(axis=axis, dtype=dtype, out=out, **kwargs)\n"
     ]
    },
    {
     "data": {
      "text/html": [
       "<div>\n",
       "<style scoped>\n",
       "    .dataframe tbody tr th:only-of-type {\n",
       "        vertical-align: middle;\n",
       "    }\n",
       "\n",
       "    .dataframe tbody tr th {\n",
       "        vertical-align: top;\n",
       "    }\n",
       "\n",
       "    .dataframe thead th {\n",
       "        text-align: right;\n",
       "    }\n",
       "</style>\n",
       "<table border=\"1\" class=\"dataframe\">\n",
       "  <thead>\n",
       "    <tr style=\"text-align: right;\">\n",
       "      <th></th>\n",
       "      <th>setosa_Mahalanobis</th>\n",
       "      <th>setosa_p</th>\n",
       "      <th>versicolor_Mahalanobis</th>\n",
       "      <th>versicolor_p</th>\n",
       "      <th>virginica_Mahalanobis</th>\n",
       "      <th>virginica_p</th>\n",
       "    </tr>\n",
       "  </thead>\n",
       "  <tbody>\n",
       "    <tr>\n",
       "      <th>0</th>\n",
       "      <td>0.268621</td>\n",
       "      <td>0.965818</td>\n",
       "      <td>5.134374</td>\n",
       "      <td>0.162218</td>\n",
       "      <td>5.924332</td>\n",
       "      <td>0.115350</td>\n",
       "    </tr>\n",
       "    <tr>\n",
       "      <th>1</th>\n",
       "      <td>0.172860</td>\n",
       "      <td>0.981847</td>\n",
       "      <td>0.872792</td>\n",
       "      <td>0.831988</td>\n",
       "      <td>1.786526</td>\n",
       "      <td>0.617871</td>\n",
       "    </tr>\n",
       "    <tr>\n",
       "      <th>2</th>\n",
       "      <td>1.282637</td>\n",
       "      <td>0.733260</td>\n",
       "      <td>3.492890</td>\n",
       "      <td>0.321685</td>\n",
       "      <td>0.665170</td>\n",
       "      <td>0.881364</td>\n",
       "    </tr>\n",
       "    <tr>\n",
       "      <th>3</th>\n",
       "      <td>1.625224</td>\n",
       "      <td>0.653684</td>\n",
       "      <td>0.729700</td>\n",
       "      <td>0.866197</td>\n",
       "      <td>1.109309</td>\n",
       "      <td>0.774827</td>\n",
       "    </tr>\n",
       "    <tr>\n",
       "      <th>4</th>\n",
       "      <td>0.134070</td>\n",
       "      <td>0.987457</td>\n",
       "      <td>1.217263</td>\n",
       "      <td>0.748867</td>\n",
       "      <td>1.298084</td>\n",
       "      <td>0.729588</td>\n",
       "    </tr>\n",
       "    <tr>\n",
       "      <th>5</th>\n",
       "      <td>2.486509</td>\n",
       "      <td>0.477734</td>\n",
       "      <td>1.905510</td>\n",
       "      <td>0.592248</td>\n",
       "      <td>3.615587</td>\n",
       "      <td>0.306077</td>\n",
       "    </tr>\n",
       "    <tr>\n",
       "      <th>6</th>\n",
       "      <td>1.329274</td>\n",
       "      <td>0.722194</td>\n",
       "      <td>0.876748</td>\n",
       "      <td>0.831035</td>\n",
       "      <td>7.641622</td>\n",
       "      <td>0.054029</td>\n",
       "    </tr>\n",
       "    <tr>\n",
       "      <th>7</th>\n",
       "      <td>0.054015</td>\n",
       "      <td>0.996715</td>\n",
       "      <td>4.678285</td>\n",
       "      <td>0.196928</td>\n",
       "      <td>1.847442</td>\n",
       "      <td>0.604666</td>\n",
       "    </tr>\n",
       "    <tr>\n",
       "      <th>8</th>\n",
       "      <td>2.966920</td>\n",
       "      <td>0.396754</td>\n",
       "      <td>1.795616</td>\n",
       "      <td>0.615889</td>\n",
       "      <td>0.379849</td>\n",
       "      <td>0.944373</td>\n",
       "    </tr>\n",
       "    <tr>\n",
       "      <th>9</th>\n",
       "      <td>0.186806</td>\n",
       "      <td>0.979691</td>\n",
       "      <td>2.254587</td>\n",
       "      <td>0.521277</td>\n",
       "      <td>1.028931</td>\n",
       "      <td>0.794252</td>\n",
       "    </tr>\n",
       "    <tr>\n",
       "      <th>10</th>\n",
       "      <td>1.256257</td>\n",
       "      <td>0.739546</td>\n",
       "      <td>3.433086</td>\n",
       "      <td>0.329545</td>\n",
       "      <td>1.951687</td>\n",
       "      <td>0.582495</td>\n",
       "    </tr>\n",
       "    <tr>\n",
       "      <th>11</th>\n",
       "      <td>1.315010</td>\n",
       "      <td>0.725572</td>\n",
       "      <td>0.017935</td>\n",
       "      <td>0.999365</td>\n",
       "      <td>0.247181</td>\n",
       "      <td>0.969636</td>\n",
       "    </tr>\n",
       "    <tr>\n",
       "      <th>12</th>\n",
       "      <td>0.384990</td>\n",
       "      <td>0.943325</td>\n",
       "      <td>0.985073</td>\n",
       "      <td>0.804864</td>\n",
       "      <td>0.688722</td>\n",
       "      <td>0.875853</td>\n",
       "    </tr>\n",
       "    <tr>\n",
       "      <th>13</th>\n",
       "      <td>6.596634</td>\n",
       "      <td>0.085928</td>\n",
       "      <td>1.226295</td>\n",
       "      <td>0.746705</td>\n",
       "      <td>2.118968</td>\n",
       "      <td>0.548085</td>\n",
       "    </tr>\n",
       "    <tr>\n",
       "      <th>14</th>\n",
       "      <td>9.870519</td>\n",
       "      <td>0.019699</td>\n",
       "      <td>2.358788</td>\n",
       "      <td>0.501352</td>\n",
       "      <td>1.786526</td>\n",
       "      <td>0.617871</td>\n",
       "    </tr>\n",
       "    <tr>\n",
       "      <th>15</th>\n",
       "      <td>3.978015</td>\n",
       "      <td>0.263848</td>\n",
       "      <td>3.742409</td>\n",
       "      <td>0.290656</td>\n",
       "      <td>0.247181</td>\n",
       "      <td>0.969636</td>\n",
       "    </tr>\n",
       "    <tr>\n",
       "      <th>16</th>\n",
       "      <td>2.882501</td>\n",
       "      <td>0.410098</td>\n",
       "      <td>2.749046</td>\n",
       "      <td>0.431957</td>\n",
       "      <td>0.021697</td>\n",
       "      <td>0.999156</td>\n",
       "    </tr>\n",
       "    <tr>\n",
       "      <th>17</th>\n",
       "      <td>0.268621</td>\n",
       "      <td>0.965818</td>\n",
       "      <td>0.116039</td>\n",
       "      <td>0.989846</td>\n",
       "      <td>4.336300</td>\n",
       "      <td>0.227365</td>\n",
       "    </tr>\n",
       "    <tr>\n",
       "      <th>18</th>\n",
       "      <td>4.644259</td>\n",
       "      <td>0.199778</td>\n",
       "      <td>0.297849</td>\n",
       "      <td>0.960433</td>\n",
       "      <td>6.483808</td>\n",
       "      <td>0.090303</td>\n",
       "    </tr>\n",
       "    <tr>\n",
       "      <th>19</th>\n",
       "      <td>0.094564</td>\n",
       "      <td>0.992482</td>\n",
       "      <td>0.599357</td>\n",
       "      <td>0.896580</td>\n",
       "      <td>1.014754</td>\n",
       "      <td>0.797682</td>\n",
       "    </tr>\n",
       "    <tr>\n",
       "      <th>20</th>\n",
       "      <td>2.486509</td>\n",
       "      <td>0.477734</td>\n",
       "      <td>3.352467</td>\n",
       "      <td>0.340407</td>\n",
       "      <td>0.336735</td>\n",
       "      <td>0.952978</td>\n",
       "    </tr>\n",
       "    <tr>\n",
       "      <th>21</th>\n",
       "      <td>0.094564</td>\n",
       "      <td>0.992482</td>\n",
       "      <td>1.558151</td>\n",
       "      <td>0.668916</td>\n",
       "      <td>2.517076</td>\n",
       "      <td>0.472213</td>\n",
       "    </tr>\n",
       "    <tr>\n",
       "      <th>22</th>\n",
       "      <td>7.286713</td>\n",
       "      <td>0.063300</td>\n",
       "      <td>2.094963</td>\n",
       "      <td>0.552933</td>\n",
       "      <td>4.336300</td>\n",
       "      <td>0.227365</td>\n",
       "    </tr>\n",
       "    <tr>\n",
       "      <th>23</th>\n",
       "      <td>1.888825</td>\n",
       "      <td>0.595799</td>\n",
       "      <td>1.226295</td>\n",
       "      <td>0.746705</td>\n",
       "      <td>2.670578</td>\n",
       "      <td>0.445251</td>\n",
       "    </tr>\n",
       "    <tr>\n",
       "      <th>24</th>\n",
       "      <td>8.065972</td>\n",
       "      <td>0.044668</td>\n",
       "      <td>1.622393</td>\n",
       "      <td>0.654323</td>\n",
       "      <td>0.084137</td>\n",
       "      <td>0.993671</td>\n",
       "    </tr>\n",
       "    <tr>\n",
       "      <th>25</th>\n",
       "      <td>0.688084</td>\n",
       "      <td>0.876003</td>\n",
       "      <td>2.701812</td>\n",
       "      <td>0.439920</td>\n",
       "      <td>0.927887</td>\n",
       "      <td>0.818693</td>\n",
       "    </tr>\n",
       "    <tr>\n",
       "      <th>26</th>\n",
       "      <td>0.688084</td>\n",
       "      <td>0.876003</td>\n",
       "      <td>2.831428</td>\n",
       "      <td>0.418352</td>\n",
       "      <td>3.128522</td>\n",
       "      <td>0.372231</td>\n",
       "    </tr>\n",
       "    <tr>\n",
       "      <th>27</th>\n",
       "      <td>0.308454</td>\n",
       "      <td>0.958431</td>\n",
       "      <td>2.678449</td>\n",
       "      <td>0.443902</td>\n",
       "      <td>1.649637</td>\n",
       "      <td>0.648188</td>\n",
       "    </tr>\n",
       "    <tr>\n",
       "      <th>28</th>\n",
       "      <td>0.576512</td>\n",
       "      <td>0.901788</td>\n",
       "      <td>0.418910</td>\n",
       "      <td>0.936309</td>\n",
       "      <td>0.550817</td>\n",
       "      <td>0.907593</td>\n",
       "    </tr>\n",
       "    <tr>\n",
       "      <th>29</th>\n",
       "      <td>1.888484</td>\n",
       "      <td>0.595872</td>\n",
       "      <td>3.962841</td>\n",
       "      <td>0.265505</td>\n",
       "      <td>1.504049</td>\n",
       "      <td>0.681336</td>\n",
       "    </tr>\n",
       "    <tr>\n",
       "      <th>30</th>\n",
       "      <td>1.315010</td>\n",
       "      <td>0.725572</td>\n",
       "      <td>0.984571</td>\n",
       "      <td>0.804985</td>\n",
       "      <td>1.679024</td>\n",
       "      <td>0.641607</td>\n",
       "    </tr>\n",
       "    <tr>\n",
       "      <th>31</th>\n",
       "      <td>1.256257</td>\n",
       "      <td>0.739546</td>\n",
       "      <td>1.426927</td>\n",
       "      <td>0.699235</td>\n",
       "      <td>4.497423</td>\n",
       "      <td>0.212520</td>\n",
       "    </tr>\n",
       "    <tr>\n",
       "      <th>32</th>\n",
       "      <td>0.308454</td>\n",
       "      <td>0.958431</td>\n",
       "      <td>0.815748</td>\n",
       "      <td>0.845697</td>\n",
       "      <td>0.550817</td>\n",
       "      <td>0.907593</td>\n",
       "    </tr>\n",
       "    <tr>\n",
       "      <th>33</th>\n",
       "      <td>2.540230</td>\n",
       "      <td>0.468064</td>\n",
       "      <td>6.667745</td>\n",
       "      <td>0.083277</td>\n",
       "      <td>0.927415</td>\n",
       "      <td>0.818807</td>\n",
       "    </tr>\n",
       "    <tr>\n",
       "      <th>34</th>\n",
       "      <td>0.186806</td>\n",
       "      <td>0.979691</td>\n",
       "      <td>4.958121</td>\n",
       "      <td>0.174890</td>\n",
       "      <td>2.812542</td>\n",
       "      <td>0.421440</td>\n",
       "    </tr>\n",
       "    <tr>\n",
       "      <th>35</th>\n",
       "      <td>2.436552</td>\n",
       "      <td>0.486867</td>\n",
       "      <td>0.418910</td>\n",
       "      <td>0.936309</td>\n",
       "      <td>4.119788</td>\n",
       "      <td>0.248816</td>\n",
       "    </tr>\n",
       "    <tr>\n",
       "      <th>36</th>\n",
       "      <td>3.804416</td>\n",
       "      <td>0.283373</td>\n",
       "      <td>2.265670</td>\n",
       "      <td>0.519129</td>\n",
       "      <td>1.109309</td>\n",
       "      <td>0.774827</td>\n",
       "    </tr>\n",
       "    <tr>\n",
       "      <th>37</th>\n",
       "      <td>0.172860</td>\n",
       "      <td>0.981847</td>\n",
       "      <td>0.624025</td>\n",
       "      <td>0.890911</td>\n",
       "      <td>0.190188</td>\n",
       "      <td>0.979158</td>\n",
       "    </tr>\n",
       "    <tr>\n",
       "      <th>38</th>\n",
       "      <td>3.197090</td>\n",
       "      <td>0.362224</td>\n",
       "      <td>0.476134</td>\n",
       "      <td>0.924102</td>\n",
       "      <td>2.109247</td>\n",
       "      <td>0.550044</td>\n",
       "    </tr>\n",
       "    <tr>\n",
       "      <th>39</th>\n",
       "      <td>0.094564</td>\n",
       "      <td>0.992482</td>\n",
       "      <td>0.729700</td>\n",
       "      <td>0.866197</td>\n",
       "      <td>2.173604</td>\n",
       "      <td>0.537166</td>\n",
       "    </tr>\n",
       "    <tr>\n",
       "      <th>40</th>\n",
       "      <td>0.928249</td>\n",
       "      <td>0.818606</td>\n",
       "      <td>2.739314</td>\n",
       "      <td>0.433588</td>\n",
       "      <td>0.047842</td>\n",
       "      <td>0.997256</td>\n",
       "    </tr>\n",
       "    <tr>\n",
       "      <th>41</th>\n",
       "      <td>2.385598</td>\n",
       "      <td>0.496321</td>\n",
       "      <td>0.643864</td>\n",
       "      <td>0.886321</td>\n",
       "      <td>6.345227</td>\n",
       "      <td>0.095970</td>\n",
       "    </tr>\n",
       "    <tr>\n",
       "      <th>42</th>\n",
       "      <td>3.197090</td>\n",
       "      <td>0.362224</td>\n",
       "      <td>0.360920</td>\n",
       "      <td>0.948192</td>\n",
       "      <td>1.786526</td>\n",
       "      <td>0.617871</td>\n",
       "    </tr>\n",
       "    <tr>\n",
       "      <th>43</th>\n",
       "      <td>0.688084</td>\n",
       "      <td>0.876003</td>\n",
       "      <td>4.346203</td>\n",
       "      <td>0.226426</td>\n",
       "      <td>0.574401</td>\n",
       "      <td>0.902267</td>\n",
       "    </tr>\n",
       "    <tr>\n",
       "      <th>44</th>\n",
       "      <td>6.539581</td>\n",
       "      <td>0.088115</td>\n",
       "      <td>0.729442</td>\n",
       "      <td>0.866258</td>\n",
       "      <td>0.084137</td>\n",
       "      <td>0.993671</td>\n",
       "    </tr>\n",
       "    <tr>\n",
       "      <th>45</th>\n",
       "      <td>0.384990</td>\n",
       "      <td>0.943325</td>\n",
       "      <td>0.318272</td>\n",
       "      <td>0.956556</td>\n",
       "      <td>2.496833</td>\n",
       "      <td>0.475864</td>\n",
       "    </tr>\n",
       "    <tr>\n",
       "      <th>46</th>\n",
       "      <td>0.634632</td>\n",
       "      <td>0.888460</td>\n",
       "      <td>0.318272</td>\n",
       "      <td>0.956556</td>\n",
       "      <td>1.669288</td>\n",
       "      <td>0.643783</td>\n",
       "    </tr>\n",
       "    <tr>\n",
       "      <th>47</th>\n",
       "      <td>1.329274</td>\n",
       "      <td>0.722194</td>\n",
       "      <td>0.470962</td>\n",
       "      <td>0.925223</td>\n",
       "      <td>1.080063</td>\n",
       "      <td>0.781889</td>\n",
       "    </tr>\n",
       "    <tr>\n",
       "      <th>48</th>\n",
       "      <td>0.695685</td>\n",
       "      <td>0.874218</td>\n",
       "      <td>7.564762</td>\n",
       "      <td>0.055918</td>\n",
       "      <td>0.623041</td>\n",
       "      <td>0.891138</td>\n",
       "    </tr>\n",
       "    <tr>\n",
       "      <th>49</th>\n",
       "      <td>0.134070</td>\n",
       "      <td>0.987457</td>\n",
       "      <td>0.209086</td>\n",
       "      <td>0.976109</td>\n",
       "      <td>1.223871</td>\n",
       "      <td>0.747285</td>\n",
       "    </tr>\n",
       "  </tbody>\n",
       "</table>\n",
       "</div>"
      ],
      "text/plain": [
       "    setosa_Mahalanobis  setosa_p  versicolor_Mahalanobis  versicolor_p  \\\n",
       "0             0.268621  0.965818                5.134374      0.162218   \n",
       "1             0.172860  0.981847                0.872792      0.831988   \n",
       "2             1.282637  0.733260                3.492890      0.321685   \n",
       "3             1.625224  0.653684                0.729700      0.866197   \n",
       "4             0.134070  0.987457                1.217263      0.748867   \n",
       "5             2.486509  0.477734                1.905510      0.592248   \n",
       "6             1.329274  0.722194                0.876748      0.831035   \n",
       "7             0.054015  0.996715                4.678285      0.196928   \n",
       "8             2.966920  0.396754                1.795616      0.615889   \n",
       "9             0.186806  0.979691                2.254587      0.521277   \n",
       "10            1.256257  0.739546                3.433086      0.329545   \n",
       "11            1.315010  0.725572                0.017935      0.999365   \n",
       "12            0.384990  0.943325                0.985073      0.804864   \n",
       "13            6.596634  0.085928                1.226295      0.746705   \n",
       "14            9.870519  0.019699                2.358788      0.501352   \n",
       "15            3.978015  0.263848                3.742409      0.290656   \n",
       "16            2.882501  0.410098                2.749046      0.431957   \n",
       "17            0.268621  0.965818                0.116039      0.989846   \n",
       "18            4.644259  0.199778                0.297849      0.960433   \n",
       "19            0.094564  0.992482                0.599357      0.896580   \n",
       "20            2.486509  0.477734                3.352467      0.340407   \n",
       "21            0.094564  0.992482                1.558151      0.668916   \n",
       "22            7.286713  0.063300                2.094963      0.552933   \n",
       "23            1.888825  0.595799                1.226295      0.746705   \n",
       "24            8.065972  0.044668                1.622393      0.654323   \n",
       "25            0.688084  0.876003                2.701812      0.439920   \n",
       "26            0.688084  0.876003                2.831428      0.418352   \n",
       "27            0.308454  0.958431                2.678449      0.443902   \n",
       "28            0.576512  0.901788                0.418910      0.936309   \n",
       "29            1.888484  0.595872                3.962841      0.265505   \n",
       "30            1.315010  0.725572                0.984571      0.804985   \n",
       "31            1.256257  0.739546                1.426927      0.699235   \n",
       "32            0.308454  0.958431                0.815748      0.845697   \n",
       "33            2.540230  0.468064                6.667745      0.083277   \n",
       "34            0.186806  0.979691                4.958121      0.174890   \n",
       "35            2.436552  0.486867                0.418910      0.936309   \n",
       "36            3.804416  0.283373                2.265670      0.519129   \n",
       "37            0.172860  0.981847                0.624025      0.890911   \n",
       "38            3.197090  0.362224                0.476134      0.924102   \n",
       "39            0.094564  0.992482                0.729700      0.866197   \n",
       "40            0.928249  0.818606                2.739314      0.433588   \n",
       "41            2.385598  0.496321                0.643864      0.886321   \n",
       "42            3.197090  0.362224                0.360920      0.948192   \n",
       "43            0.688084  0.876003                4.346203      0.226426   \n",
       "44            6.539581  0.088115                0.729442      0.866258   \n",
       "45            0.384990  0.943325                0.318272      0.956556   \n",
       "46            0.634632  0.888460                0.318272      0.956556   \n",
       "47            1.329274  0.722194                0.470962      0.925223   \n",
       "48            0.695685  0.874218                7.564762      0.055918   \n",
       "49            0.134070  0.987457                0.209086      0.976109   \n",
       "\n",
       "    virginica_Mahalanobis  virginica_p  \n",
       "0                5.924332     0.115350  \n",
       "1                1.786526     0.617871  \n",
       "2                0.665170     0.881364  \n",
       "3                1.109309     0.774827  \n",
       "4                1.298084     0.729588  \n",
       "5                3.615587     0.306077  \n",
       "6                7.641622     0.054029  \n",
       "7                1.847442     0.604666  \n",
       "8                0.379849     0.944373  \n",
       "9                1.028931     0.794252  \n",
       "10               1.951687     0.582495  \n",
       "11               0.247181     0.969636  \n",
       "12               0.688722     0.875853  \n",
       "13               2.118968     0.548085  \n",
       "14               1.786526     0.617871  \n",
       "15               0.247181     0.969636  \n",
       "16               0.021697     0.999156  \n",
       "17               4.336300     0.227365  \n",
       "18               6.483808     0.090303  \n",
       "19               1.014754     0.797682  \n",
       "20               0.336735     0.952978  \n",
       "21               2.517076     0.472213  \n",
       "22               4.336300     0.227365  \n",
       "23               2.670578     0.445251  \n",
       "24               0.084137     0.993671  \n",
       "25               0.927887     0.818693  \n",
       "26               3.128522     0.372231  \n",
       "27               1.649637     0.648188  \n",
       "28               0.550817     0.907593  \n",
       "29               1.504049     0.681336  \n",
       "30               1.679024     0.641607  \n",
       "31               4.497423     0.212520  \n",
       "32               0.550817     0.907593  \n",
       "33               0.927415     0.818807  \n",
       "34               2.812542     0.421440  \n",
       "35               4.119788     0.248816  \n",
       "36               1.109309     0.774827  \n",
       "37               0.190188     0.979158  \n",
       "38               2.109247     0.550044  \n",
       "39               2.173604     0.537166  \n",
       "40               0.047842     0.997256  \n",
       "41               6.345227     0.095970  \n",
       "42               1.786526     0.617871  \n",
       "43               0.574401     0.902267  \n",
       "44               0.084137     0.993671  \n",
       "45               2.496833     0.475864  \n",
       "46               1.669288     0.643783  \n",
       "47               1.080063     0.781889  \n",
       "48               0.623041     0.891138  \n",
       "49               1.223871     0.747285  "
      ]
     },
     "execution_count": 13,
     "metadata": {},
     "output_type": "execute_result"
    }
   ],
   "source": [
    "Mahalanobis_distance([setosa, versicolor, virginica])"
   ]
  },
  {
   "cell_type": "code",
   "execution_count": 14,
   "metadata": {},
   "outputs": [],
   "source": [
    "# There were no multivariate outliers in the data, as assessed by Mahalanobis distance (p > 0.001)"
   ]
  },
  {
   "cell_type": "markdown",
   "metadata": {},
   "source": [
    "### Normality"
   ]
  },
  {
   "cell_type": "markdown",
   "metadata": {},
   "source": [
    "#### Check univariate normality assumption"
   ]
  },
  {
   "cell_type": "code",
   "execution_count": 15,
   "metadata": {},
   "outputs": [],
   "source": [
    "setosa = df[df['Species'] == 'setosa'][['Sepal.Length', 'Petal.Length']]\n",
    "versicolor = df[df['Species'] == 'versicolor'][['Sepal.Length', 'Petal.Length']]\n",
    "virginica = df[df['Species'] == 'virginica'][['Sepal.Length', 'Petal.Length']]"
   ]
  },
  {
   "cell_type": "code",
   "execution_count": 16,
   "metadata": {},
   "outputs": [],
   "source": [
    "def shapiro(categories):\n",
    "    normality = {'Shapiro':{}}\n",
    "    import scipy.stats as stats\n",
    "    i = ['setosa', 'versicolor', 'virginica'] \n",
    "    for i, cat in zip(i, categories):\n",
    "        columns = cat.columns\n",
    "        for j in columns:\n",
    "            result = stats.shapiro(cat[j])\n",
    "            normality['Shapiro'][f'{i} and {j}'] = result\n",
    "    return pd.DataFrame(normality)"
   ]
  },
  {
   "cell_type": "code",
   "execution_count": 17,
   "metadata": {},
   "outputs": [
    {
     "data": {
      "text/html": [
       "<div>\n",
       "<style scoped>\n",
       "    .dataframe tbody tr th:only-of-type {\n",
       "        vertical-align: middle;\n",
       "    }\n",
       "\n",
       "    .dataframe tbody tr th {\n",
       "        vertical-align: top;\n",
       "    }\n",
       "\n",
       "    .dataframe thead th {\n",
       "        text-align: right;\n",
       "    }\n",
       "</style>\n",
       "<table border=\"1\" class=\"dataframe\">\n",
       "  <thead>\n",
       "    <tr style=\"text-align: right;\">\n",
       "      <th></th>\n",
       "      <th>Shapiro</th>\n",
       "    </tr>\n",
       "  </thead>\n",
       "  <tbody>\n",
       "    <tr>\n",
       "      <th>setosa and Petal.Length</th>\n",
       "      <td>(0.9549766182899475, 0.05481043830513954)</td>\n",
       "    </tr>\n",
       "    <tr>\n",
       "      <th>setosa and Sepal.Length</th>\n",
       "      <td>(0.9776989221572876, 0.4595281183719635)</td>\n",
       "    </tr>\n",
       "    <tr>\n",
       "      <th>versicolor and Petal.Length</th>\n",
       "      <td>(0.9660047888755798, 0.1584833413362503)</td>\n",
       "    </tr>\n",
       "    <tr>\n",
       "      <th>versicolor and Sepal.Length</th>\n",
       "      <td>(0.9778355956077576, 0.46473264694213867)</td>\n",
       "    </tr>\n",
       "    <tr>\n",
       "      <th>virginica and Petal.Length</th>\n",
       "      <td>(0.9621862769126892, 0.10977369546890259)</td>\n",
       "    </tr>\n",
       "    <tr>\n",
       "      <th>virginica and Sepal.Length</th>\n",
       "      <td>(0.9711798429489136, 0.25832483172416687)</td>\n",
       "    </tr>\n",
       "  </tbody>\n",
       "</table>\n",
       "</div>"
      ],
      "text/plain": [
       "                                                               Shapiro\n",
       "setosa and Petal.Length      (0.9549766182899475, 0.05481043830513954)\n",
       "setosa and Sepal.Length       (0.9776989221572876, 0.4595281183719635)\n",
       "versicolor and Petal.Length   (0.9660047888755798, 0.1584833413362503)\n",
       "versicolor and Sepal.Length  (0.9778355956077576, 0.46473264694213867)\n",
       "virginica and Petal.Length   (0.9621862769126892, 0.10977369546890259)\n",
       "virginica and Sepal.Length   (0.9711798429489136, 0.25832483172416687)"
      ]
     },
     "execution_count": 17,
     "metadata": {},
     "output_type": "execute_result"
    }
   ],
   "source": [
    "shapiro([setosa, versicolor, virginica])"
   ]
  },
  {
   "cell_type": "markdown",
   "metadata": {},
   "source": [
    "#### Multivariate normality"
   ]
  },
  {
   "cell_type": "code",
   "execution_count": 18,
   "metadata": {},
   "outputs": [],
   "source": [
    "X = df[['Sepal.Length', 'Petal.Length']]"
   ]
  },
  {
   "cell_type": "code",
   "execution_count": 19,
   "metadata": {},
   "outputs": [
    {
     "data": {
      "text/plain": [
       "HZResults(hz=5.450383639328617, pval=1.035769444922176e-11, normal=False)"
      ]
     },
     "execution_count": 19,
     "metadata": {},
     "output_type": "execute_result"
    }
   ],
   "source": [
    "from pingouin import multivariate_normality\n",
    "#perform the Henze-Zirkler Multivariate Normality Test\n",
    "multivariate_normality(X, alpha=.05)"
   ]
  },
  {
   "cell_type": "markdown",
   "metadata": {},
   "source": [
    "### Identify multicollinearity"
   ]
  },
  {
   "cell_type": "code",
   "execution_count": 20,
   "metadata": {},
   "outputs": [],
   "source": [
    "import pingouin as pg"
   ]
  },
  {
   "cell_type": "code",
   "execution_count": 21,
   "metadata": {},
   "outputs": [
    {
     "data": {
      "text/html": [
       "<div>\n",
       "<style scoped>\n",
       "    .dataframe tbody tr th:only-of-type {\n",
       "        vertical-align: middle;\n",
       "    }\n",
       "\n",
       "    .dataframe tbody tr th {\n",
       "        vertical-align: top;\n",
       "    }\n",
       "\n",
       "    .dataframe thead th {\n",
       "        text-align: right;\n",
       "    }\n",
       "</style>\n",
       "<table border=\"1\" class=\"dataframe\">\n",
       "  <thead>\n",
       "    <tr style=\"text-align: right;\">\n",
       "      <th></th>\n",
       "      <th>n</th>\n",
       "      <th>r</th>\n",
       "      <th>CI95%</th>\n",
       "      <th>p-val</th>\n",
       "      <th>BF10</th>\n",
       "      <th>power</th>\n",
       "    </tr>\n",
       "  </thead>\n",
       "  <tbody>\n",
       "    <tr>\n",
       "      <th>pearson</th>\n",
       "      <td>150</td>\n",
       "      <td>0.872</td>\n",
       "      <td>[0.83, 0.91]</td>\n",
       "      <td>0.0</td>\n",
       "      <td>1.811e+44</td>\n",
       "      <td>1.0</td>\n",
       "    </tr>\n",
       "  </tbody>\n",
       "</table>\n",
       "</div>"
      ],
      "text/plain": [
       "           n      r         CI95%  p-val       BF10  power\n",
       "pearson  150  0.872  [0.83, 0.91]    0.0  1.811e+44    1.0"
      ]
     },
     "execution_count": 21,
     "metadata": {},
     "output_type": "execute_result"
    }
   ],
   "source": [
    "pg.corr(df['Sepal.Length'], df['Petal.Length']).round(3)"
   ]
  },
  {
   "cell_type": "markdown",
   "metadata": {},
   "source": [
    "### Check linearity assumption"
   ]
  },
  {
   "cell_type": "markdown",
   "metadata": {},
   "source": [
    "#### setosa"
   ]
  },
  {
   "cell_type": "code",
   "execution_count": 22,
   "metadata": {},
   "outputs": [
    {
     "data": {
      "text/html": [
       "<div>\n",
       "<style scoped>\n",
       "    .dataframe tbody tr th:only-of-type {\n",
       "        vertical-align: middle;\n",
       "    }\n",
       "\n",
       "    .dataframe tbody tr th {\n",
       "        vertical-align: top;\n",
       "    }\n",
       "\n",
       "    .dataframe thead th {\n",
       "        text-align: right;\n",
       "    }\n",
       "</style>\n",
       "<table border=\"1\" class=\"dataframe\">\n",
       "  <thead>\n",
       "    <tr style=\"text-align: right;\">\n",
       "      <th></th>\n",
       "      <th>n</th>\n",
       "      <th>r</th>\n",
       "      <th>CI95%</th>\n",
       "      <th>p-val</th>\n",
       "      <th>BF10</th>\n",
       "      <th>power</th>\n",
       "    </tr>\n",
       "  </thead>\n",
       "  <tbody>\n",
       "    <tr>\n",
       "      <th>pearson</th>\n",
       "      <td>50</td>\n",
       "      <td>0.267</td>\n",
       "      <td>[-0.01, 0.51]</td>\n",
       "      <td>0.061</td>\n",
       "      <td>0.975</td>\n",
       "      <td>0.473</td>\n",
       "    </tr>\n",
       "  </tbody>\n",
       "</table>\n",
       "</div>"
      ],
      "text/plain": [
       "          n      r          CI95%  p-val   BF10  power\n",
       "pearson  50  0.267  [-0.01, 0.51]  0.061  0.975  0.473"
      ]
     },
     "execution_count": 22,
     "metadata": {},
     "output_type": "execute_result"
    }
   ],
   "source": [
    "import pingouin as pg\n",
    "pg.corr(df['Sepal.Length'][df['Species']=='setosa'], df['Petal.Length'][df['Species']=='setosa']).round(3)"
   ]
  },
  {
   "cell_type": "code",
   "execution_count": 23,
   "metadata": {},
   "outputs": [
    {
     "data": {
      "text/plain": [
       "<AxesSubplot:xlabel='Sepal.Length', ylabel='Petal.Length'>"
      ]
     },
     "execution_count": 23,
     "metadata": {},
     "output_type": "execute_result"
    },
    {
     "data": {
      "image/png": "[encoded data removed]",
      "text/plain": [
       "<Figure size 576x432 with 1 Axes>"
      ]
     },
     "metadata": {
      "needs_background": "light"
     },
     "output_type": "display_data"
    }
   ],
   "source": [
    "plt.figure(figsize=(8,6))\n",
    "Palette = [\"#1FBD1A\"]\n",
    "sns.set_palette(Palette)\n",
    "sns.scatterplot(data=df[df['Species'] == 'setosa'], x=\"Sepal.Length\", y=\"Petal.Length\")"
   ]
  },
  {
   "cell_type": "markdown",
   "metadata": {},
   "source": [
    "#### versicolor"
   ]
  },
  {
   "cell_type": "code",
   "execution_count": 24,
   "metadata": {},
   "outputs": [
    {
     "data": {
      "text/html": [
       "<div>\n",
       "<style scoped>\n",
       "    .dataframe tbody tr th:only-of-type {\n",
       "        vertical-align: middle;\n",
       "    }\n",
       "\n",
       "    .dataframe tbody tr th {\n",
       "        vertical-align: top;\n",
       "    }\n",
       "\n",
       "    .dataframe thead th {\n",
       "        text-align: right;\n",
       "    }\n",
       "</style>\n",
       "<table border=\"1\" class=\"dataframe\">\n",
       "  <thead>\n",
       "    <tr style=\"text-align: right;\">\n",
       "      <th></th>\n",
       "      <th>n</th>\n",
       "      <th>r</th>\n",
       "      <th>CI95%</th>\n",
       "      <th>p-val</th>\n",
       "      <th>BF10</th>\n",
       "      <th>power</th>\n",
       "    </tr>\n",
       "  </thead>\n",
       "  <tbody>\n",
       "    <tr>\n",
       "      <th>pearson</th>\n",
       "      <td>50</td>\n",
       "      <td>0.754</td>\n",
       "      <td>[0.6, 0.85]</td>\n",
       "      <td>0.0</td>\n",
       "      <td>4.637e+07</td>\n",
       "      <td>1.0</td>\n",
       "    </tr>\n",
       "  </tbody>\n",
       "</table>\n",
       "</div>"
      ],
      "text/plain": [
       "          n      r        CI95%  p-val       BF10  power\n",
       "pearson  50  0.754  [0.6, 0.85]    0.0  4.637e+07    1.0"
      ]
     },
     "execution_count": 24,
     "metadata": {},
     "output_type": "execute_result"
    }
   ],
   "source": [
    "import pingouin as pg\n",
    "pg.corr(df['Sepal.Length'][df['Species']=='versicolor'], df['Petal.Length'][df['Species']=='versicolor']).round(3)"
   ]
  },
  {
   "cell_type": "code",
   "execution_count": 25,
   "metadata": {},
   "outputs": [
    {
     "data": {
      "text/plain": [
       "<AxesSubplot:xlabel='Sepal.Length', ylabel='Petal.Length'>"
      ]
     },
     "execution_count": 25,
     "metadata": {},
     "output_type": "execute_result"
    },
    {
     "data": {
      "image/png": "[encoded data removed]",
      "text/plain": [
       "<Figure size 576x432 with 1 Axes>"
      ]
     },
     "metadata": {
      "needs_background": "light"
     },
     "output_type": "display_data"
    }
   ],
   "source": [
    "plt.figure(figsize=(8,6))\n",
    "Palette = [\"#FF5733\"]\n",
    "sns.set_palette(Palette)\n",
    "sns.scatterplot(data=df[df['Species'] == 'versicolor'], x=\"Sepal.Length\", y=\"Petal.Length\")"
   ]
  },
  {
   "cell_type": "markdown",
   "metadata": {},
   "source": [
    "#### virginica"
   ]
  },
  {
   "cell_type": "code",
   "execution_count": 26,
   "metadata": {},
   "outputs": [
    {
     "data": {
      "text/html": [
       "<div>\n",
       "<style scoped>\n",
       "    .dataframe tbody tr th:only-of-type {\n",
       "        vertical-align: middle;\n",
       "    }\n",
       "\n",
       "    .dataframe tbody tr th {\n",
       "        vertical-align: top;\n",
       "    }\n",
       "\n",
       "    .dataframe thead th {\n",
       "        text-align: right;\n",
       "    }\n",
       "</style>\n",
       "<table border=\"1\" class=\"dataframe\">\n",
       "  <thead>\n",
       "    <tr style=\"text-align: right;\">\n",
       "      <th></th>\n",
       "      <th>n</th>\n",
       "      <th>r</th>\n",
       "      <th>CI95%</th>\n",
       "      <th>p-val</th>\n",
       "      <th>BF10</th>\n",
       "      <th>power</th>\n",
       "    </tr>\n",
       "  </thead>\n",
       "  <tbody>\n",
       "    <tr>\n",
       "      <th>pearson</th>\n",
       "      <td>50</td>\n",
       "      <td>0.864</td>\n",
       "      <td>[0.77, 0.92]</td>\n",
       "      <td>0.0</td>\n",
       "      <td>9.996e+12</td>\n",
       "      <td>1.0</td>\n",
       "    </tr>\n",
       "  </tbody>\n",
       "</table>\n",
       "</div>"
      ],
      "text/plain": [
       "          n      r         CI95%  p-val       BF10  power\n",
       "pearson  50  0.864  [0.77, 0.92]    0.0  9.996e+12    1.0"
      ]
     },
     "execution_count": 26,
     "metadata": {},
     "output_type": "execute_result"
    }
   ],
   "source": [
    "import pingouin as pg\n",
    "pg.corr(df['Sepal.Length'][df['Species']=='virginica'], df['Petal.Length'][df['Species']=='virginica']).round(3)"
   ]
  },
  {
   "cell_type": "code",
   "execution_count": 27,
   "metadata": {},
   "outputs": [
    {
     "data": {
      "text/plain": [
       "<AxesSubplot:xlabel='Sepal.Length', ylabel='Petal.Length'>"
      ]
     },
     "execution_count": 27,
     "metadata": {},
     "output_type": "execute_result"
    },
    {
     "data": {
      "image/png": "[encoded data removed]",
      "text/plain": [
       "<Figure size 576x432 with 1 Axes>"
      ]
     },
     "metadata": {
      "needs_background": "light"
     },
     "output_type": "display_data"
    }
   ],
   "source": [
    "plt.figure(figsize=(8,6))\n",
    "Palette = [\"#494949\"]\n",
    "sns.set_palette(Palette)\n",
    "sns.scatterplot(data=df[df['Species'] == 'virginica'], x=\"Sepal.Length\", y=\"Petal.Length\")"
   ]
  },
  {
   "cell_type": "markdown",
   "metadata": {},
   "source": [
    "### Check the homogeneity of covariances assumption"
   ]
  },
  {
   "cell_type": "code",
   "execution_count": 28,
   "metadata": {},
   "outputs": [
    {
     "data": {
      "text/html": [
       "<div>\n",
       "<style scoped>\n",
       "    .dataframe tbody tr th:only-of-type {\n",
       "        vertical-align: middle;\n",
       "    }\n",
       "\n",
       "    .dataframe tbody tr th {\n",
       "        vertical-align: top;\n",
       "    }\n",
       "\n",
       "    .dataframe thead th {\n",
       "        text-align: right;\n",
       "    }\n",
       "</style>\n",
       "<table border=\"1\" class=\"dataframe\">\n",
       "  <thead>\n",
       "    <tr style=\"text-align: right;\">\n",
       "      <th></th>\n",
       "      <th>Chi2</th>\n",
       "      <th>df</th>\n",
       "      <th>pval</th>\n",
       "      <th>equal_cov</th>\n",
       "    </tr>\n",
       "  </thead>\n",
       "  <tbody>\n",
       "    <tr>\n",
       "      <th>box</th>\n",
       "      <td>58.375558</td>\n",
       "      <td>6.0</td>\n",
       "      <td>9.616505e-11</td>\n",
       "      <td>False</td>\n",
       "    </tr>\n",
       "  </tbody>\n",
       "</table>\n",
       "</div>"
      ],
      "text/plain": [
       "          Chi2   df          pval  equal_cov\n",
       "box  58.375558  6.0  9.616505e-11      False"
      ]
     },
     "execution_count": 28,
     "metadata": {},
     "output_type": "execute_result"
    }
   ],
   "source": [
    "import pingouin as pg\n",
    "pg.box_m(df, dvs=['Sepal.Length', 'Petal.Length'], group='Species')"
   ]
  },
  {
   "cell_type": "markdown",
   "metadata": {},
   "source": [
    "### Check the homogneity of variance assumption"
   ]
  },
  {
   "cell_type": "code",
   "execution_count": 29,
   "metadata": {},
   "outputs": [],
   "source": [
    "# if normality exists then perform bartlett otherwise levene's tests"
   ]
  },
  {
   "cell_type": "code",
   "execution_count": 30,
   "metadata": {},
   "outputs": [],
   "source": [
    "# Null Hypothesis: the variances are equal across all samples/groups\n",
    "# Alternative Hypothesis:  the variances are not equal across all samples/groups"
   ]
  },
  {
   "cell_type": "code",
   "execution_count": 31,
   "metadata": {},
   "outputs": [
    {
     "data": {
      "text/html": [
       "<div>\n",
       "<style scoped>\n",
       "    .dataframe tbody tr th:only-of-type {\n",
       "        vertical-align: middle;\n",
       "    }\n",
       "\n",
       "    .dataframe tbody tr th {\n",
       "        vertical-align: top;\n",
       "    }\n",
       "\n",
       "    .dataframe thead th {\n",
       "        text-align: right;\n",
       "    }\n",
       "</style>\n",
       "<table border=\"1\" class=\"dataframe\">\n",
       "  <thead>\n",
       "    <tr style=\"text-align: right;\">\n",
       "      <th></th>\n",
       "      <th>Bartlett</th>\n",
       "      <th>Levene</th>\n",
       "    </tr>\n",
       "  </thead>\n",
       "  <tbody>\n",
       "    <tr>\n",
       "      <th>Sepal.Length</th>\n",
       "      <td>(16.005701874401502, 0.0003345076070163035)</td>\n",
       "      <td>(6.35272002048269, 0.0022585277836218586)</td>\n",
       "    </tr>\n",
       "    <tr>\n",
       "      <th>Petal.Length</th>\n",
       "      <td>(55.42250284023702, 9.229037733034152e-13)</td>\n",
       "      <td>(19.480338801923573, 3.1287566394085344e-08)</td>\n",
       "    </tr>\n",
       "  </tbody>\n",
       "</table>\n",
       "</div>"
      ],
      "text/plain": [
       "                                                 Bartlett  \\\n",
       "Sepal.Length  (16.005701874401502, 0.0003345076070163035)   \n",
       "Petal.Length   (55.42250284023702, 9.229037733034152e-13)   \n",
       "\n",
       "                                                    Levene  \n",
       "Sepal.Length     (6.35272002048269, 0.0022585277836218586)  \n",
       "Petal.Length  (19.480338801923573, 3.1287566394085344e-08)  "
      ]
     },
     "execution_count": 31,
     "metadata": {},
     "output_type": "execute_result"
    }
   ],
   "source": [
    "from scipy.stats import bartlett\n",
    "from scipy.stats import levene\n",
    "\n",
    "Sepal_Length_Levene = levene(df['Sepal.Length'][df['Species']=='setosa'],df['Sepal.Length'][df['Species']=='versicolor'],df['Sepal.Length'][df['Species']=='virginica'])\n",
    "Petal_Length_Levene = levene(df['Petal.Length'][df['Species']=='setosa'],df['Petal.Length'][df['Species']=='versicolor'],df['Petal.Length'][df['Species']=='virginica'])\n",
    "Sepal_Length_bartlett = bartlett(df['Sepal.Length'][df['Species']=='setosa'],df['Sepal.Length'][df['Species']=='versicolor'],df['Sepal.Length'][df['Species']=='virginica'])\n",
    "Petal_Length_bartlett = bartlett(df['Petal.Length'][df['Species']=='setosa'],df['Petal.Length'][df['Species']=='versicolor'],df['Petal.Length'][df['Species']=='virginica'])\n",
    "\n",
    "homo = {\n",
    "    'Bartlett':{\n",
    "        'Sepal.Length':Sepal_Length_bartlett,\n",
    "        'Petal.Length':Petal_Length_bartlett\n",
    "    }, \n",
    "    'Levene':{\n",
    "        'Sepal.Length':Sepal_Length_Levene,\n",
    "        'Petal.Length':Petal_Length_Levene\n",
    "    }\n",
    "}\n",
    "pd.DataFrame(homo)"
   ]
  },
  {
   "cell_type": "markdown",
   "metadata": {},
   "source": [
    "## One-Way MANOVA Computation"
   ]
  },
  {
   "cell_type": "code",
   "execution_count": 32,
   "metadata": {},
   "outputs": [],
   "source": [
    "df['Sepal_Length'] = df['Sepal.Length']\n",
    "df['Petal_Length'] = df['Petal.Length']"
   ]
  },
  {
   "cell_type": "code",
   "execution_count": 33,
   "metadata": {},
   "outputs": [
    {
     "name": "stderr",
     "output_type": "stream",
     "text": [
      "C:\\ProgramData\\Anaconda3\\envs\\All\\lib\\site-packages\\statsmodels\\compat\\pandas.py:61: FutureWarning: pandas.Int64Index is deprecated and will be removed from pandas in a future version. Use pandas.Index with the appropriate dtype instead.\n",
      "  from pandas import Int64Index as NumericIndex\n"
     ]
    },
    {
     "data": {
      "text/html": [
       "<table class=\"simpletable\">\n",
       "<tr>\n",
       "  <td></td> <td></td> <td></td> <td></td>\n",
       "</tr>\n",
       "</table>\n",
       "<table class=\"simpletable\">\n",
       "<tr>\n",
       "  <td></td>        <th>Intercept</th>        <th>Value</th>  <th>Num DF</th>  <th>Den DF</th>   <th>F Value</th>  <th>Pr > F</th>\n",
       "</tr>\n",
       "<tr>\n",
       "  <th></th>      <td>Wilks' lambda</td>     <td>0.0219</td>  <td>2.0000</td> <td>146.0000</td> <td>3255.3901</td> <td>0.0000</td>\n",
       "</tr>\n",
       "<tr>\n",
       "  <th></th>     <td>Pillai's trace</td>     <td>0.9781</td>  <td>2.0000</td> <td>146.0000</td> <td>3255.3901</td> <td>0.0000</td>\n",
       "</tr>\n",
       "<tr>\n",
       "  <th></th> <td>Hotelling-Lawley trace</td> <td>44.5944</td> <td>2.0000</td> <td>146.0000</td> <td>3255.3901</td> <td>0.0000</td>\n",
       "</tr>\n",
       "<tr>\n",
       "  <th></th>   <td>Roy's greatest root</td>  <td>44.5944</td> <td>2.0000</td> <td>146.0000</td> <td>3255.3901</td> <td>0.0000</td>\n",
       "</tr>\n",
       "</table>\n",
       "<table class=\"simpletable\">\n",
       "<tr>\n",
       "  <td></td> <td></td> <td></td> <td></td>\n",
       "</tr>\n",
       "</table>\n",
       "<table class=\"simpletable\">\n",
       "<tr>\n",
       "  <td></td>         <th>Species</th>         <th>Value</th>  <th>Num DF</th>  <th>Den DF</th>   <th>F Value</th>  <th>Pr > F</th>\n",
       "</tr>\n",
       "<tr>\n",
       "  <th></th>      <td>Wilks' lambda</td>     <td>0.0399</td>  <td>4.0000</td> <td>292.0000</td> <td>292.5565</td>  <td>0.0000</td>\n",
       "</tr>\n",
       "<tr>\n",
       "  <th></th>     <td>Pillai's trace</td>     <td>0.9885</td>  <td>4.0000</td> <td>294.0000</td>  <td>71.8288</td>  <td>0.0000</td>\n",
       "</tr>\n",
       "<tr>\n",
       "  <th></th> <td>Hotelling-Lawley trace</td> <td>23.3647</td> <td>4.0000</td> <td>174.1653</td> <td>850.8986</td>  <td>0.0000</td>\n",
       "</tr>\n",
       "<tr>\n",
       "  <th></th>   <td>Roy's greatest root</td>  <td>23.3342</td> <td>2.0000</td> <td>147.0000</td> <td>1715.0602</td> <td>0.0000</td>\n",
       "</tr>\n",
       "</table>"
      ],
      "text/plain": [
       "<class 'statsmodels.iolib.summary2.Summary'>\n",
       "\"\"\"\n",
       "                   Multivariate linear model\n",
       "================================================================\n",
       "                                                                \n",
       "----------------------------------------------------------------\n",
       "       Intercept         Value  Num DF  Den DF   F Value  Pr > F\n",
       "----------------------------------------------------------------\n",
       "          Wilks' lambda  0.0219 2.0000 146.0000 3255.3901 0.0000\n",
       "         Pillai's trace  0.9781 2.0000 146.0000 3255.3901 0.0000\n",
       " Hotelling-Lawley trace 44.5944 2.0000 146.0000 3255.3901 0.0000\n",
       "    Roy's greatest root 44.5944 2.0000 146.0000 3255.3901 0.0000\n",
       "----------------------------------------------------------------\n",
       "                                                                \n",
       "----------------------------------------------------------------\n",
       "        Species          Value  Num DF  Den DF   F Value  Pr > F\n",
       "----------------------------------------------------------------\n",
       "          Wilks' lambda  0.0399 4.0000 292.0000  292.5565 0.0000\n",
       "         Pillai's trace  0.9885 4.0000 294.0000   71.8288 0.0000\n",
       " Hotelling-Lawley trace 23.3647 4.0000 174.1653  850.8986 0.0000\n",
       "    Roy's greatest root 23.3342 2.0000 147.0000 1715.0602 0.0000\n",
       "================================================================\n",
       "\n",
       "\"\"\""
      ]
     },
     "execution_count": 33,
     "metadata": {},
     "output_type": "execute_result"
    }
   ],
   "source": [
    "from statsmodels.multivariate.manova import MANOVA\n",
    "fit = MANOVA.from_formula('Sepal_Length + Petal_Length  ~ Species', data=df)\n",
    "fit.mv_test().summary()"
   ]
  },
  {
   "cell_type": "markdown",
   "metadata": {},
   "source": [
    "## Post-hoct tests"
   ]
  },
  {
   "cell_type": "markdown",
   "metadata": {},
   "source": [
    "### Compute univariate one-way ANOVA"
   ]
  },
  {
   "cell_type": "markdown",
   "metadata": {},
   "source": [
    "#### Compute simple main effects"
   ]
  },
  {
   "cell_type": "raw",
   "metadata": {},
   "source": [
    "anova: can be used when normality and homogeneity of variance assumptions are met\n",
    "welch_anova_test: can be used when the homogeneity of variance assumption is violated, as in our example.\n",
    "kruskal_test: Kruskal-Wallis test, a non parametric alternative of one-way ANOVA test"
   ]
  },
  {
   "cell_type": "markdown",
   "metadata": {},
   "source": [
    "#### anova"
   ]
  },
  {
   "cell_type": "code",
   "execution_count": 34,
   "metadata": {},
   "outputs": [
    {
     "data": {
      "text/html": [
       "<div>\n",
       "<style scoped>\n",
       "    .dataframe tbody tr th:only-of-type {\n",
       "        vertical-align: middle;\n",
       "    }\n",
       "\n",
       "    .dataframe tbody tr th {\n",
       "        vertical-align: top;\n",
       "    }\n",
       "\n",
       "    .dataframe thead th {\n",
       "        text-align: right;\n",
       "    }\n",
       "</style>\n",
       "<table border=\"1\" class=\"dataframe\">\n",
       "  <thead>\n",
       "    <tr style=\"text-align: right;\">\n",
       "      <th></th>\n",
       "      <th></th>\n",
       "      <th>Source</th>\n",
       "      <th>SS</th>\n",
       "      <th>DF</th>\n",
       "      <th>MS</th>\n",
       "      <th>F</th>\n",
       "      <th>p-unc</th>\n",
       "      <th>np2</th>\n",
       "    </tr>\n",
       "  </thead>\n",
       "  <tbody>\n",
       "    <tr>\n",
       "      <th rowspan=\"2\" valign=\"top\">Sepal.Length</th>\n",
       "      <th>0</th>\n",
       "      <td>Species</td>\n",
       "      <td>63.212133</td>\n",
       "      <td>2</td>\n",
       "      <td>31.606067</td>\n",
       "      <td>119.264502</td>\n",
       "      <td>1.669669e-31</td>\n",
       "      <td>0.618706</td>\n",
       "    </tr>\n",
       "    <tr>\n",
       "      <th>1</th>\n",
       "      <td>Within</td>\n",
       "      <td>38.956200</td>\n",
       "      <td>147</td>\n",
       "      <td>0.265008</td>\n",
       "      <td>NaN</td>\n",
       "      <td>NaN</td>\n",
       "      <td>NaN</td>\n",
       "    </tr>\n",
       "    <tr>\n",
       "      <th rowspan=\"2\" valign=\"top\">Petal.Length</th>\n",
       "      <th>0</th>\n",
       "      <td>Species</td>\n",
       "      <td>437.102800</td>\n",
       "      <td>2</td>\n",
       "      <td>218.551400</td>\n",
       "      <td>1180.161182</td>\n",
       "      <td>2.856777e-91</td>\n",
       "      <td>0.941372</td>\n",
       "    </tr>\n",
       "    <tr>\n",
       "      <th>1</th>\n",
       "      <td>Within</td>\n",
       "      <td>27.222600</td>\n",
       "      <td>147</td>\n",
       "      <td>0.185188</td>\n",
       "      <td>NaN</td>\n",
       "      <td>NaN</td>\n",
       "      <td>NaN</td>\n",
       "    </tr>\n",
       "  </tbody>\n",
       "</table>\n",
       "</div>"
      ],
      "text/plain": [
       "                 Source          SS   DF          MS            F  \\\n",
       "Sepal.Length 0  Species   63.212133    2   31.606067   119.264502   \n",
       "             1   Within   38.956200  147    0.265008          NaN   \n",
       "Petal.Length 0  Species  437.102800    2  218.551400  1180.161182   \n",
       "             1   Within   27.222600  147    0.185188          NaN   \n",
       "\n",
       "                       p-unc       np2  \n",
       "Sepal.Length 0  1.669669e-31  0.618706  \n",
       "             1           NaN       NaN  \n",
       "Petal.Length 0  2.856777e-91  0.941372  \n",
       "             1           NaN       NaN  "
      ]
     },
     "execution_count": 34,
     "metadata": {},
     "output_type": "execute_result"
    }
   ],
   "source": [
    "import pingouin as pg\n",
    "series = ['Sepal.Length', 'Petal.Length']\n",
    "tables = []\n",
    "for i in series:\n",
    "    anova_table = pg.anova(dv=i, between='Species', data=df, detailed=True)\n",
    "    tables.append(anova_table)\n",
    "df_anova = pd.concat(tables, keys=series, axis=0)\n",
    "df_anova"
   ]
  },
  {
   "cell_type": "markdown",
   "metadata": {},
   "source": [
    "#### welch_anova"
   ]
  },
  {
   "cell_type": "code",
   "execution_count": 35,
   "metadata": {},
   "outputs": [
    {
     "data": {
      "text/html": [
       "<div>\n",
       "<style scoped>\n",
       "    .dataframe tbody tr th:only-of-type {\n",
       "        vertical-align: middle;\n",
       "    }\n",
       "\n",
       "    .dataframe tbody tr th {\n",
       "        vertical-align: top;\n",
       "    }\n",
       "\n",
       "    .dataframe thead th {\n",
       "        text-align: right;\n",
       "    }\n",
       "</style>\n",
       "<table border=\"1\" class=\"dataframe\">\n",
       "  <thead>\n",
       "    <tr style=\"text-align: right;\">\n",
       "      <th></th>\n",
       "      <th></th>\n",
       "      <th>Source</th>\n",
       "      <th>ddof1</th>\n",
       "      <th>ddof2</th>\n",
       "      <th>F</th>\n",
       "      <th>p-unc</th>\n",
       "      <th>np2</th>\n",
       "    </tr>\n",
       "  </thead>\n",
       "  <tbody>\n",
       "    <tr>\n",
       "      <th>Sepal.Length</th>\n",
       "      <th>0</th>\n",
       "      <td>Species</td>\n",
       "      <td>2</td>\n",
       "      <td>92.211145</td>\n",
       "      <td>138.908285</td>\n",
       "      <td>1.505059e-28</td>\n",
       "      <td>0.618706</td>\n",
       "    </tr>\n",
       "    <tr>\n",
       "      <th>Petal.Length</th>\n",
       "      <th>0</th>\n",
       "      <td>Species</td>\n",
       "      <td>2</td>\n",
       "      <td>78.072955</td>\n",
       "      <td>1828.091945</td>\n",
       "      <td>2.693327e-66</td>\n",
       "      <td>0.941372</td>\n",
       "    </tr>\n",
       "  </tbody>\n",
       "</table>\n",
       "</div>"
      ],
      "text/plain": [
       "                 Source  ddof1      ddof2            F         p-unc       np2\n",
       "Sepal.Length 0  Species      2  92.211145   138.908285  1.505059e-28  0.618706\n",
       "Petal.Length 0  Species      2  78.072955  1828.091945  2.693327e-66  0.941372"
      ]
     },
     "execution_count": 35,
     "metadata": {},
     "output_type": "execute_result"
    }
   ],
   "source": [
    "from pingouin import welch_anova \n",
    "series = ['Sepal.Length', 'Petal.Length']\n",
    "tables = []\n",
    "for i in series:\n",
    "    welch_table = welch_anova(dv=i, between='Species', data=df)\n",
    "    tables.append(welch_table)\n",
    "df_welch = pd.concat(tables, keys=series, axis=0)\n",
    "df_welch"
   ]
  },
  {
   "cell_type": "markdown",
   "metadata": {},
   "source": [
    "#### kruskal"
   ]
  },
  {
   "cell_type": "code",
   "execution_count": 36,
   "metadata": {},
   "outputs": [
    {
     "data": {
      "text/html": [
       "<div>\n",
       "<style scoped>\n",
       "    .dataframe tbody tr th:only-of-type {\n",
       "        vertical-align: middle;\n",
       "    }\n",
       "\n",
       "    .dataframe tbody tr th {\n",
       "        vertical-align: top;\n",
       "    }\n",
       "\n",
       "    .dataframe thead th {\n",
       "        text-align: right;\n",
       "    }\n",
       "</style>\n",
       "<table border=\"1\" class=\"dataframe\">\n",
       "  <thead>\n",
       "    <tr style=\"text-align: right;\">\n",
       "      <th></th>\n",
       "      <th></th>\n",
       "      <th>Source</th>\n",
       "      <th>ddof1</th>\n",
       "      <th>H</th>\n",
       "      <th>p-unc</th>\n",
       "    </tr>\n",
       "  </thead>\n",
       "  <tbody>\n",
       "    <tr>\n",
       "      <th>Sepal.Length</th>\n",
       "      <th>Kruskal</th>\n",
       "      <td>Species</td>\n",
       "      <td>2</td>\n",
       "      <td>96.937436</td>\n",
       "      <td>8.918734e-22</td>\n",
       "    </tr>\n",
       "    <tr>\n",
       "      <th>Petal.Length</th>\n",
       "      <th>Kruskal</th>\n",
       "      <td>Species</td>\n",
       "      <td>2</td>\n",
       "      <td>130.411049</td>\n",
       "      <td>4.803974e-29</td>\n",
       "    </tr>\n",
       "  </tbody>\n",
       "</table>\n",
       "</div>"
      ],
      "text/plain": [
       "                       Source  ddof1           H         p-unc\n",
       "Sepal.Length Kruskal  Species      2   96.937436  8.918734e-22\n",
       "Petal.Length Kruskal  Species      2  130.411049  4.803974e-29"
      ]
     },
     "execution_count": 36,
     "metadata": {},
     "output_type": "execute_result"
    }
   ],
   "source": [
    "from pingouin import kruskal \n",
    "series = ['Sepal.Length', 'Petal.Length']\n",
    "tables = []\n",
    "for i in series:\n",
    "    kruskal_table = kruskal(dv=i, between='Species', data=df)\n",
    "    tables.append(kruskal_table)\n",
    "df_kruskal = pd.concat(tables, keys=series, axis=0)\n",
    "df_kruskal"
   ]
  },
  {
   "cell_type": "markdown",
   "metadata": {},
   "source": [
    "### Compute multiple pairwise comparisons"
   ]
  },
  {
   "cell_type": "markdown",
   "metadata": {},
   "source": [
    "If you had violated the assumption of homogeneity of variances, as in our example, you might prefer to run a Games-Howell post-hoc test insted of tukey_hsd"
   ]
  },
  {
   "cell_type": "code",
   "execution_count": 37,
   "metadata": {},
   "outputs": [
    {
     "data": {
      "text/html": [
       "<div>\n",
       "<style scoped>\n",
       "    .dataframe tbody tr th:only-of-type {\n",
       "        vertical-align: middle;\n",
       "    }\n",
       "\n",
       "    .dataframe tbody tr th {\n",
       "        vertical-align: top;\n",
       "    }\n",
       "\n",
       "    .dataframe thead th {\n",
       "        text-align: right;\n",
       "    }\n",
       "</style>\n",
       "<table border=\"1\" class=\"dataframe\">\n",
       "  <thead>\n",
       "    <tr style=\"text-align: right;\">\n",
       "      <th></th>\n",
       "      <th></th>\n",
       "      <th>A</th>\n",
       "      <th>B</th>\n",
       "      <th>mean(A)</th>\n",
       "      <th>mean(B)</th>\n",
       "      <th>diff</th>\n",
       "      <th>se</th>\n",
       "      <th>T</th>\n",
       "      <th>df</th>\n",
       "      <th>pval</th>\n",
       "      <th>hedges</th>\n",
       "    </tr>\n",
       "  </thead>\n",
       "  <tbody>\n",
       "    <tr>\n",
       "      <th rowspan=\"3\" valign=\"top\">Sepal.Length</th>\n",
       "      <th>0</th>\n",
       "      <td>setosa</td>\n",
       "      <td>versicolor</td>\n",
       "      <td>5.006</td>\n",
       "      <td>5.936</td>\n",
       "      <td>-0.930</td>\n",
       "      <td>0.088</td>\n",
       "      <td>-10.521</td>\n",
       "      <td>86.538</td>\n",
       "      <td>0.0</td>\n",
       "      <td>-2.088</td>\n",
       "    </tr>\n",
       "    <tr>\n",
       "      <th>1</th>\n",
       "      <td>setosa</td>\n",
       "      <td>virginica</td>\n",
       "      <td>5.006</td>\n",
       "      <td>6.588</td>\n",
       "      <td>-1.582</td>\n",
       "      <td>0.103</td>\n",
       "      <td>-15.386</td>\n",
       "      <td>76.516</td>\n",
       "      <td>0.0</td>\n",
       "      <td>-3.054</td>\n",
       "    </tr>\n",
       "    <tr>\n",
       "      <th>2</th>\n",
       "      <td>versicolor</td>\n",
       "      <td>virginica</td>\n",
       "      <td>5.936</td>\n",
       "      <td>6.588</td>\n",
       "      <td>-0.652</td>\n",
       "      <td>0.116</td>\n",
       "      <td>-5.629</td>\n",
       "      <td>94.025</td>\n",
       "      <td>0.0</td>\n",
       "      <td>-1.117</td>\n",
       "    </tr>\n",
       "    <tr>\n",
       "      <th rowspan=\"3\" valign=\"top\">Petal.Length</th>\n",
       "      <th>0</th>\n",
       "      <td>setosa</td>\n",
       "      <td>versicolor</td>\n",
       "      <td>1.462</td>\n",
       "      <td>4.260</td>\n",
       "      <td>-2.798</td>\n",
       "      <td>0.071</td>\n",
       "      <td>-39.493</td>\n",
       "      <td>62.140</td>\n",
       "      <td>0.0</td>\n",
       "      <td>-7.838</td>\n",
       "    </tr>\n",
       "    <tr>\n",
       "      <th>1</th>\n",
       "      <td>setosa</td>\n",
       "      <td>virginica</td>\n",
       "      <td>1.462</td>\n",
       "      <td>5.552</td>\n",
       "      <td>-4.090</td>\n",
       "      <td>0.082</td>\n",
       "      <td>-49.986</td>\n",
       "      <td>58.609</td>\n",
       "      <td>0.0</td>\n",
       "      <td>-9.921</td>\n",
       "    </tr>\n",
       "    <tr>\n",
       "      <th>2</th>\n",
       "      <td>versicolor</td>\n",
       "      <td>virginica</td>\n",
       "      <td>4.260</td>\n",
       "      <td>5.552</td>\n",
       "      <td>-1.292</td>\n",
       "      <td>0.103</td>\n",
       "      <td>-12.604</td>\n",
       "      <td>95.570</td>\n",
       "      <td>0.0</td>\n",
       "      <td>-2.501</td>\n",
       "    </tr>\n",
       "  </tbody>\n",
       "</table>\n",
       "</div>"
      ],
      "text/plain": [
       "                         A           B  mean(A)  mean(B)   diff     se  \\\n",
       "Sepal.Length 0      setosa  versicolor    5.006    5.936 -0.930  0.088   \n",
       "             1      setosa   virginica    5.006    6.588 -1.582  0.103   \n",
       "             2  versicolor   virginica    5.936    6.588 -0.652  0.116   \n",
       "Petal.Length 0      setosa  versicolor    1.462    4.260 -2.798  0.071   \n",
       "             1      setosa   virginica    1.462    5.552 -4.090  0.082   \n",
       "             2  versicolor   virginica    4.260    5.552 -1.292  0.103   \n",
       "\n",
       "                     T      df  pval  hedges  \n",
       "Sepal.Length 0 -10.521  86.538   0.0  -2.088  \n",
       "             1 -15.386  76.516   0.0  -3.054  \n",
       "             2  -5.629  94.025   0.0  -1.117  \n",
       "Petal.Length 0 -39.493  62.140   0.0  -7.838  \n",
       "             1 -49.986  58.609   0.0  -9.921  \n",
       "             2 -12.604  95.570   0.0  -2.501  "
      ]
     },
     "execution_count": 37,
     "metadata": {},
     "output_type": "execute_result"
    }
   ],
   "source": [
    "series = ['Sepal.Length', 'Petal.Length']\n",
    "tables = []\n",
    "for i in series:\n",
    "    gameshowell = pg.pairwise_gameshowell(data=df, dv=f'{i}', between='Species').round(3)\n",
    "    tables.append(gameshowell)\n",
    "df_kruskal = pd.concat(tables, keys=series, axis=0)\n",
    "df_kruskal"
   ]
  },
  {
   "cell_type": "markdown",
   "metadata": {},
   "source": [
    "## Report"
   ]
  },
  {
   "cell_type": "code",
   "execution_count": 38,
   "metadata": {
    "scrolled": false
   },
   "outputs": [
    {
     "name": "stdout",
     "output_type": "stream",
     "text": [
      "p-value annotation legend:\n",
      "      ns: p <= 1.00e+00\n",
      "       *: 1.00e-02 < p <= 5.00e-02\n",
      "      **: 1.00e-03 < p <= 1.00e-02\n",
      "     ***: 1.00e-04 < p <= 1.00e-03\n",
      "    ****: p <= 1.00e-04\n",
      "\n",
      "setosa_Sepal.Length vs. versicolor_Sepal.Length: Custom statistical test, P_val:1.000e-04\n",
      "versicolor_Sepal.Length vs. virginica_Sepal.Length: Custom statistical test, P_val:1.000e-04\n",
      "setosa_Petal.Length vs. versicolor_Petal.Length: Custom statistical test, P_val:1.000e-04\n",
      "versicolor_Petal.Length vs. virginica_Petal.Length: Custom statistical test, P_val:1.000e-04\n",
      "setosa_Sepal.Length vs. virginica_Sepal.Length: Custom statistical test, P_val:1.000e-04\n",
      "setosa_Petal.Length vs. virginica_Petal.Length: Custom statistical test, P_val:1.000e-04\n"
     ]
    },
    {
     "data": {
      "image/png": "[encoded data removed]",
      "text/plain": [
       "<Figure size 1080x576 with 1 Axes>"
      ]
     },
     "metadata": {
      "needs_background": "light"
     },
     "output_type": "display_data"
    }
   ],
   "source": [
    "from statannotations.Annotator import Annotator\n",
    "\n",
    "# palette = sns.color_palette(\"YlGnBu\", n_colors=3)\n",
    "\n",
    "hue_order = [\"Sepal.Length\", \"Petal.Length\"]\n",
    "\n",
    "pvalues = [0.0001, 0.0001, 0.0001, 0.0001, 0.0001, 0.0001]\n",
    "\n",
    "# Putting the parameters in a dictionary avoids code duplication\n",
    "# since we use the same for `sns.boxplot` and `Annotator` calls..\n",
    "\n",
    "pairs = [\n",
    "    [('setosa', 'Sepal.Length'), ('versicolor', 'Sepal.Length')],\n",
    "    [('setosa', 'Sepal.Length'), ('virginica', 'Sepal.Length')],\n",
    "    [('versicolor', 'Sepal.Length'), ('virginica', 'Sepal.Length')],\n",
    "    \n",
    "    [('setosa', 'Petal.Length'), ('versicolor', 'Petal.Length')],\n",
    "    [('setosa', 'Petal.Length'), ('virginica', 'Petal.Length')],\n",
    "    [('versicolor', 'Petal.Length'), ('virginica', 'Petal.Length')],\n",
    "]\n",
    "\n",
    "dfl = pd.melt(df, id_vars='Species', value_vars=['Sepal.Length', 'Petal.Length'])\n",
    "\n",
    "plotting_parameters = {\n",
    "    'data': dfl,\n",
    "    'x': 'Species',\n",
    "    'y': \"value\",\n",
    "    'showfliers':False,\n",
    "    'color':'tomato',\n",
    "    \"hue\": 'variable',\n",
    "    \"hue_order\": hue_order,\n",
    "#     \"palette\": palette\n",
    "}\n",
    "\n",
    "with sns.plotting_context('notebook', font_scale = 1.4):\n",
    "    \n",
    "    from matplotlib import pyplot as plt\n",
    "    plt.figure(figsize=(15,8))\n",
    "    \n",
    "    ax = sns.boxplot(**plotting_parameters)\n",
    "\n",
    "    # Add annotations\n",
    "    annotator = Annotator(ax, pairs, **plotting_parameters)\n",
    "    annotator.set_pvalues(pvalues)\n",
    "    annotator.annotate()\n",
    "\n",
    "    plt.show()"
   ]
  }
 ],
 "metadata": {
  "kernelspec": {
   "display_name": "Python 3 (ipykernel)",
   "language": "python",
   "name": "python3"
  },
  "language_info": {
   "codemirror_mode": {
    "name": "ipython",
    "version": 3
   },
   "file_extension": ".py",
   "mimetype": "text/x-python",
   "name": "python",
   "nbconvert_exporter": "python",
   "pygments_lexer": "ipython3",
   "version": "3.9.7"
  }
 },
 "nbformat": 4,
 "nbformat_minor": 2
}
